{
 "cells": [
  {
   "cell_type": "code",
   "execution_count": 1,
   "metadata": {
    "colab": {
     "base_uri": "https://localhost:8080/",
     "height": 38
    },
    "executionInfo": {
     "elapsed": 15,
     "status": "ok",
     "timestamp": 1692708405108,
     "user": {
      "displayName": "Lucas Amonati Khing Kliemczak",
      "userId": "15598711284908640386"
     },
     "user_tz": 180
    },
    "id": "TSfcPG7ZRtuJ",
    "outputId": "b9f39469-c76f-4002-8176-714e4127ef52"
   },
   "outputs": [
    {
     "data": {
      "text/latex": [
       "$\\displaystyle 2 x$"
      ],
      "text/plain": [
       "2*x"
      ]
     },
     "execution_count": 1,
     "metadata": {},
     "output_type": "execute_result"
    }
   ],
   "source": [
    "import sympy as sym\n",
    "\n",
    "x = sym.Symbol('x')\n",
    "y = sym.Symbol('y')\n",
    "\n",
    "x + y + x -y"
   ]
  },
  {
   "cell_type": "code",
   "execution_count": 2,
   "metadata": {
    "colab": {
     "base_uri": "https://localhost:8080/",
     "height": 38
    },
    "executionInfo": {
     "elapsed": 527,
     "status": "ok",
     "timestamp": 1692708423048,
     "user": {
      "displayName": "Lucas Amonati Khing Kliemczak",
      "userId": "15598711284908640386"
     },
     "user_tz": 180
    },
    "id": "3VoaSu1iSEyk",
    "outputId": "1e816b78-e46e-43cb-c6bb-e380b39c0654"
   },
   "outputs": [
    {
     "data": {
      "text/latex": [
       "$\\displaystyle x^{3} + 3 x^{2} y + 3 x y^{2} + y^{3}$"
      ],
      "text/plain": [
       "x**3 + 3*x**2*y + 3*x*y**2 + y**3"
      ]
     },
     "execution_count": 2,
     "metadata": {},
     "output_type": "execute_result"
    }
   ],
   "source": [
    "sym.expand((x+y)**3)"
   ]
  },
  {
   "cell_type": "code",
   "execution_count": 3,
   "metadata": {
    "colab": {
     "base_uri": "https://localhost:8080/",
     "height": 38
    },
    "executionInfo": {
     "elapsed": 637,
     "status": "ok",
     "timestamp": 1692708466068,
     "user": {
      "displayName": "Lucas Amonati Khing Kliemczak",
      "userId": "15598711284908640386"
     },
     "user_tz": 180
    },
    "id": "YOTxdW6xSL_6",
    "outputId": "a4e3a42e-cf4a-4c5b-930d-b854b32d1b0d"
   },
   "outputs": [
    {
     "data": {
      "text/latex": [
       "$\\displaystyle - \\sin{\\left(x \\right)} \\sin{\\left(y \\right)} + \\cos{\\left(x \\right)} \\cos{\\left(y \\right)}$"
      ],
      "text/plain": [
       "-sin(x)*sin(y) + cos(x)*cos(y)"
      ]
     },
     "execution_count": 3,
     "metadata": {},
     "output_type": "execute_result"
    }
   ],
   "source": [
    "sym.expand(sym.cos(x+y),trig=True)"
   ]
  },
  {
   "cell_type": "code",
   "execution_count": 4,
   "metadata": {
    "colab": {
     "base_uri": "https://localhost:8080/",
     "height": 38
    },
    "executionInfo": {
     "elapsed": 551,
     "status": "ok",
     "timestamp": 1692708498209,
     "user": {
      "displayName": "Lucas Amonati Khing Kliemczak",
      "userId": "15598711284908640386"
     },
     "user_tz": 180
    },
    "id": "of5b6LKPSWch",
    "outputId": "de1dee10-5f24-4567-d28e-503cacc679eb"
   },
   "outputs": [
    {
     "data": {
      "text/latex": [
       "$\\displaystyle x + y$"
      ],
      "text/plain": [
       "x + y"
      ]
     },
     "execution_count": 4,
     "metadata": {},
     "output_type": "execute_result"
    }
   ],
   "source": [
    "sym.simplify((x**2+x*y)/x)"
   ]
  },
  {
   "cell_type": "code",
   "execution_count": 6,
   "metadata": {
    "colab": {
     "base_uri": "https://localhost:8080/",
     "height": 37
    },
    "executionInfo": {
     "elapsed": 404,
     "status": "ok",
     "timestamp": 1692708540342,
     "user": {
      "displayName": "Lucas Amonati Khing Kliemczak",
      "userId": "15598711284908640386"
     },
     "user_tz": 180
    },
    "id": "RlxLuWPdSeUo",
    "outputId": "9ebaf9c5-7e25-4456-e5fc-f078c360854a"
   },
   "outputs": [
    {
     "data": {
      "text/latex": [
       "$\\displaystyle \\infty$"
      ],
      "text/plain": [
       "oo"
      ]
     },
     "execution_count": 6,
     "metadata": {},
     "output_type": "execute_result"
    }
   ],
   "source": [
    "sym.limit(sym.cos(x)/x,x,0)"
   ]
  },
  {
   "cell_type": "code",
   "execution_count": 7,
   "metadata": {
    "colab": {
     "base_uri": "https://localhost:8080/",
     "height": 38
    },
    "executionInfo": {
     "elapsed": 421,
     "status": "ok",
     "timestamp": 1692708907710,
     "user": {
      "displayName": "Lucas Amonati Khing Kliemczak",
      "userId": "15598711284908640386"
     },
     "user_tz": 180
    },
    "id": "GbzYrJ31T3SB",
    "outputId": "bd276d0f-c2d2-41bb-f85d-260eec7fccbd"
   },
   "outputs": [
    {
     "data": {
      "text/latex": [
       "$\\displaystyle 2 \\cos{\\left(2 x \\right)}$"
      ],
      "text/plain": [
       "2*cos(2*x)"
      ]
     },
     "execution_count": 7,
     "metadata": {},
     "output_type": "execute_result"
    }
   ],
   "source": [
    "sym.diff(sym.sin(2*x),x,1)   # derivada"
   ]
  },
  {
   "cell_type": "code",
   "execution_count": 8,
   "metadata": {
    "colab": {
     "base_uri": "https://localhost:8080/",
     "height": 54
    },
    "executionInfo": {
     "elapsed": 421,
     "status": "ok",
     "timestamp": 1692708965258,
     "user": {
      "displayName": "Lucas Amonati Khing Kliemczak",
      "userId": "15598711284908640386"
     },
     "user_tz": 180
    },
    "id": "UCDU9RIAUHsk",
    "outputId": "1a824b99-03ca-48e5-8769-3ed69f8b6266"
   },
   "outputs": [
    {
     "data": {
      "text/latex": [
       "$\\displaystyle 1 + \\frac{x^{2}}{2} + \\frac{5 x^{4}}{24} + O\\left(x^{6}\\right)$"
      ],
      "text/plain": [
       "1 + x**2/2 + 5*x**4/24 + O(x**6)"
      ]
     },
     "execution_count": 8,
     "metadata": {},
     "output_type": "execute_result"
    }
   ],
   "source": [
    "sym.series(1/sym.cos(x),x)"
   ]
  },
  {
   "cell_type": "code",
   "execution_count": 9,
   "metadata": {
    "colab": {
     "base_uri": "https://localhost:8080/",
     "height": 38
    },
    "executionInfo": {
     "elapsed": 426,
     "status": "ok",
     "timestamp": 1692709009195,
     "user": {
      "displayName": "Lucas Amonati Khing Kliemczak",
      "userId": "15598711284908640386"
     },
     "user_tz": 180
    },
    "id": "iu6CJaG7UIPe",
    "outputId": "84c4627a-abea-450c-afcf-4ae5ddbf756a"
   },
   "outputs": [
    {
     "data": {
      "text/latex": [
       "$\\displaystyle x \\log{\\left(x \\right)} - x$"
      ],
      "text/plain": [
       "x*log(x) - x"
      ]
     },
     "execution_count": 9,
     "metadata": {},
     "output_type": "execute_result"
    }
   ],
   "source": [
    "sym.integrate(sym.log(x),x)"
   ]
  },
  {
   "cell_type": "code",
   "execution_count": 10,
   "metadata": {
    "colab": {
     "base_uri": "https://localhost:8080/",
     "height": 54
    },
    "executionInfo": {
     "elapsed": 9,
     "status": "ok",
     "timestamp": 1692709043593,
     "user": {
      "displayName": "Lucas Amonati Khing Kliemczak",
      "userId": "15598711284908640386"
     },
     "user_tz": 180
    },
    "id": "6k7CI89HUIZx",
    "outputId": "64b511f4-54fb-4fbe-a221-ca642541cecf"
   },
   "outputs": [
    {
     "data": {
      "text/latex": [
       "$\\displaystyle \\frac{x^{4}}{4}$"
      ],
      "text/plain": [
       "x**4/4"
      ]
     },
     "execution_count": 10,
     "metadata": {},
     "output_type": "execute_result"
    }
   ],
   "source": [
    "sym.integrate(x**3,x)"
   ]
  },
  {
   "cell_type": "code",
   "execution_count": 11,
   "metadata": {
    "colab": {
     "base_uri": "https://localhost:8080/",
     "height": 37
    },
    "executionInfo": {
     "elapsed": 412,
     "status": "ok",
     "timestamp": 1692709081554,
     "user": {
      "displayName": "Lucas Amonati Khing Kliemczak",
      "userId": "15598711284908640386"
     },
     "user_tz": 180
    },
    "id": "z8UJPGqqUIlX",
    "outputId": "8ce572e0-84c8-4bfe-c02a-68b86e056f04"
   },
   "outputs": [
    {
     "data": {
      "text/latex": [
       "$\\displaystyle 0$"
      ],
      "text/plain": [
       "0"
      ]
     },
     "execution_count": 11,
     "metadata": {},
     "output_type": "execute_result"
    }
   ],
   "source": [
    "sym.integrate(x**3,(x,-1,1))"
   ]
  },
  {
   "cell_type": "code",
   "execution_count": 12,
   "metadata": {
    "colab": {
     "base_uri": "https://localhost:8080/",
     "height": 68
    },
    "executionInfo": {
     "elapsed": 454,
     "status": "ok",
     "timestamp": 1692709108961,
     "user": {
      "displayName": "Lucas Amonati Khing Kliemczak",
      "userId": "15598711284908640386"
     },
     "user_tz": 180
    },
    "id": "bt_v8eIFUuUX",
    "outputId": "6379ca68-9420-47ec-b436-a74351090f79"
   },
   "outputs": [
    {
     "data": {
      "text/latex": [
       "$\\displaystyle \\left\\{1, - \\frac{1}{2} - \\frac{\\sqrt{3} i}{2}, - \\frac{1}{2} + \\frac{\\sqrt{3} i}{2}\\right\\}$"
      ],
      "text/plain": [
       "{1, -1/2 - sqrt(3)*I/2, -1/2 + sqrt(3)*I/2}"
      ]
     },
     "execution_count": 12,
     "metadata": {},
     "output_type": "execute_result"
    }
   ],
   "source": [
    "sym.solveset(x**3-1,x)"
   ]
  },
  {
   "cell_type": "code",
   "execution_count": 13,
   "metadata": {
    "colab": {
     "base_uri": "https://localhost:8080/"
    },
    "executionInfo": {
     "elapsed": 504,
     "status": "ok",
     "timestamp": 1692709233550,
     "user": {
      "displayName": "Lucas Amonati Khing Kliemczak",
      "userId": "15598711284908640386"
     },
     "user_tz": 180
    },
    "id": "i2FsY78FU6ex",
    "outputId": "9db8a5ba-6fae-4202-94d5-6106c037b163"
   },
   "outputs": [
    {
     "data": {
      "text/plain": [
       "(-3, 1)"
      ]
     },
     "execution_count": 13,
     "metadata": {},
     "output_type": "execute_result"
    }
   ],
   "source": [
    "solution = sym.solve((x+5*y-2,-3*x+6*y-15),(x,y))\n",
    "solution[x],solution[y]"
   ]
  },
  {
   "cell_type": "code",
   "execution_count": 15,
   "metadata": {
    "colab": {
     "base_uri": "https://localhost:8080/",
     "height": 39
    },
    "executionInfo": {
     "elapsed": 384,
     "status": "ok",
     "timestamp": 1692709315333,
     "user": {
      "displayName": "Lucas Amonati Khing Kliemczak",
      "userId": "15598711284908640386"
     },
     "user_tz": 180
    },
    "id": "BMs52PYOU6is",
    "outputId": "fb3cc2fd-2f6d-4600-fc57-d037db1096c5"
   },
   "outputs": [
    {
     "data": {
      "text/latex": [
       "$\\displaystyle \\left(x^{2} - x - 1\\right) \\left(x^{2} + x - 1\\right)$"
      ],
      "text/plain": [
       "(x**2 - x - 1)*(x**2 + x - 1)"
      ]
     },
     "execution_count": 15,
     "metadata": {},
     "output_type": "execute_result"
    }
   ],
   "source": [
    "f = x**4 - 3*x**2+1\n",
    "sym.factor(f)"
   ]
  },
  {
   "cell_type": "code",
   "execution_count": 16,
   "metadata": {
    "colab": {
     "base_uri": "https://localhost:8080/"
    },
    "executionInfo": {
     "elapsed": 505,
     "status": "ok",
     "timestamp": 1692709410803,
     "user": {
      "displayName": "Lucas Amonati Khing Kliemczak",
      "userId": "15598711284908640386"
     },
     "user_tz": 180
    },
    "id": "0sj-F_URU6mW",
    "outputId": "46c3a2a1-e309-41f9-f560-241e2992b390"
   },
   "outputs": [
    {
     "data": {
      "text/plain": [
       "(-3, 1)"
      ]
     },
     "execution_count": 16,
     "metadata": {},
     "output_type": "execute_result"
    }
   ],
   "source": [
    "s = sym.solve((x+y-2,2*x+y),(x,y))\n",
    "solution[x],solution[y]"
   ]
  },
  {
   "cell_type": "code",
   "execution_count": 18,
   "metadata": {
    "colab": {
     "base_uri": "https://localhost:8080/",
     "height": 58
    },
    "executionInfo": {
     "elapsed": 513,
     "status": "ok",
     "timestamp": 1692709450335,
     "user": {
      "displayName": "Lucas Amonati Khing Kliemczak",
      "userId": "15598711284908640386"
     },
     "user_tz": 180
    },
    "id": "DdOemInEU6pa",
    "outputId": "ff01fdfb-96fb-4d22-eb56-45687b741958"
   },
   "outputs": [
    {
     "data": {
      "text/latex": [
       "$\\displaystyle \\left[\\begin{matrix}1 & 0\\\\0 & 1\\end{matrix}\\right]$"
      ],
      "text/plain": [
       "Matrix([\n",
       "[1, 0],\n",
       "[0, 1]])"
      ]
     },
     "execution_count": 18,
     "metadata": {},
     "output_type": "execute_result"
    }
   ],
   "source": [
    "sym.Matrix([[1,0],[0,1]])"
   ]
  },
  {
   "cell_type": "code",
   "execution_count": 23,
   "metadata": {
    "colab": {
     "base_uri": "https://localhost:8080/",
     "height": 58
    },
    "executionInfo": {
     "elapsed": 11,
     "status": "ok",
     "timestamp": 1692709555498,
     "user": {
      "displayName": "Lucas Amonati Khing Kliemczak",
      "userId": "15598711284908640386"
     },
     "user_tz": 180
    },
    "id": "OLMXgfdeU6sd",
    "outputId": "1fc745e6-a9c7-408c-bd74-7c679a044841"
   },
   "outputs": [
    {
     "data": {
      "text/latex": [
       "$\\displaystyle \\left[\\begin{matrix}1 & x\\\\y & 1\\end{matrix}\\right]$"
      ],
      "text/plain": [
       "Matrix([\n",
       "[1, x],\n",
       "[y, 1]])"
      ]
     },
     "execution_count": 23,
     "metadata": {},
     "output_type": "execute_result"
    }
   ],
   "source": [
    "A = sym.Matrix([[1,x],[y,1]])\n",
    "A"
   ]
  },
  {
   "cell_type": "code",
   "execution_count": 24,
   "metadata": {
    "colab": {
     "base_uri": "https://localhost:8080/",
     "height": 58
    },
    "executionInfo": {
     "elapsed": 401,
     "status": "ok",
     "timestamp": 1692709569732,
     "user": {
      "displayName": "Lucas Amonati Khing Kliemczak",
      "userId": "15598711284908640386"
     },
     "user_tz": 180
    },
    "id": "Z7HAmqVsU6vY",
    "outputId": "919611f0-35f7-48d9-b296-19f2d6532df4"
   },
   "outputs": [
    {
     "data": {
      "text/latex": [
       "$\\displaystyle \\left[\\begin{matrix}x y + 1 & 2 x\\\\2 y & x y + 1\\end{matrix}\\right]$"
      ],
      "text/plain": [
       "Matrix([\n",
       "[x*y + 1,     2*x],\n",
       "[    2*y, x*y + 1]])"
      ]
     },
     "execution_count": 24,
     "metadata": {},
     "output_type": "execute_result"
    }
   ],
   "source": [
    "A**2"
   ]
  },
  {
   "cell_type": "code",
   "execution_count": 25,
   "metadata": {
    "colab": {
     "base_uri": "https://localhost:8080/",
     "height": 38
    },
    "executionInfo": {
     "elapsed": 421,
     "status": "ok",
     "timestamp": 1692709617147,
     "user": {
      "displayName": "Lucas Amonati Khing Kliemczak",
      "userId": "15598711284908640386"
     },
     "user_tz": 180
    },
    "id": "FFU2FL9yU6zL",
    "outputId": "e1354348-08e7-4285-c746-e0dfaa08e536"
   },
   "outputs": [
    {
     "data": {
      "text/latex": [
       "$\\displaystyle 2 \\cos{\\left(2 x \\right)}$"
      ],
      "text/plain": [
       "2*cos(2*x)"
      ]
     },
     "execution_count": 25,
     "metadata": {},
     "output_type": "execute_result"
    }
   ],
   "source": [
    "g = sym.diff(sym.sin(2*x),x,1)\n",
    "g"
   ]
  },
  {
   "cell_type": "code",
   "execution_count": 26,
   "metadata": {
    "colab": {
     "base_uri": "https://localhost:8080/"
    },
    "executionInfo": {
     "elapsed": 497,
     "status": "ok",
     "timestamp": 1692709650119,
     "user": {
      "displayName": "Lucas Amonati Khing Kliemczak",
      "userId": "15598711284908640386"
     },
     "user_tz": 180
    },
    "id": "ocMGc0E3WxUt",
    "outputId": "bdb7c45e-46d9-46ca-bbc1-83a2efea926c"
   },
   "outputs": [
    {
     "name": "stdout",
     "output_type": "stream",
     "text": [
      "-2\n"
     ]
    }
   ],
   "source": [
    "print(g.subs(x,sym.pi/2))"
   ]
  },
  {
   "cell_type": "code",
   "execution_count": null,
   "metadata": {
    "id": "KKTDdIDdWxYu"
   },
   "outputs": [],
   "source": []
  },
  {
   "cell_type": "code",
   "execution_count": null,
   "metadata": {
    "id": "wGeg2RJCWxcI"
   },
   "outputs": [],
   "source": []
  },
  {
   "cell_type": "markdown",
   "metadata": {
    "id": "SSpUPt0TTWcf"
   },
   "source": [
    "## SymPy Lecture"
   ]
  },
  {
   "cell_type": "code",
   "execution_count": 29,
   "metadata": {
    "colab": {
     "base_uri": "https://localhost:8080/",
     "height": 38
    },
    "executionInfo": {
     "elapsed": 419,
     "status": "ok",
     "timestamp": 1692709862499,
     "user": {
      "displayName": "Lucas Amonati Khing Kliemczak",
      "userId": "15598711284908640386"
     },
     "user_tz": 180
    },
    "id": "oOC8XWH3Skcb",
    "outputId": "1e937a4c-2a3e-403b-b108-61b8ed8e8f44"
   },
   "outputs": [
    {
     "data": {
      "text/latex": [
       "$\\displaystyle 3 x - 2 y$"
      ],
      "text/plain": [
       "3*x - 2*y"
      ]
     },
     "execution_count": 29,
     "metadata": {},
     "output_type": "execute_result"
    }
   ],
   "source": [
    "import sympy as sp\n",
    "\n",
    "x = sp.Symbol('x')\n",
    "y = sp.Symbol('y')\n",
    "\n",
    "x + y + 2*x - 3*y"
   ]
  },
  {
   "cell_type": "code",
   "execution_count": 30,
   "metadata": {
    "colab": {
     "base_uri": "https://localhost:8080/",
     "height": 38
    },
    "executionInfo": {
     "elapsed": 10,
     "status": "ok",
     "timestamp": 1692709864025,
     "user": {
      "displayName": "Lucas Amonati Khing Kliemczak",
      "userId": "15598711284908640386"
     },
     "user_tz": 180
    },
    "id": "BaW0aXa7XM1p",
    "outputId": "aaaea6f5-2e94-4a03-9481-ac17da320423"
   },
   "outputs": [
    {
     "data": {
      "text/latex": [
       "$\\displaystyle x^{5} + 5 x^{4} y + 10 x^{3} y^{2} + 10 x^{2} y^{3} + 5 x y^{4} + y^{5}$"
      ],
      "text/plain": [
       "x**5 + 5*x**4*y + 10*x**3*y**2 + 10*x**2*y**3 + 5*x*y**4 + y**5"
      ]
     },
     "execution_count": 30,
     "metadata": {},
     "output_type": "execute_result"
    }
   ],
   "source": [
    "sp.expand((x+y)**5)"
   ]
  },
  {
   "cell_type": "code",
   "execution_count": 32,
   "metadata": {
    "colab": {
     "base_uri": "https://localhost:8080/",
     "height": 38
    },
    "executionInfo": {
     "elapsed": 471,
     "status": "ok",
     "timestamp": 1692709933721,
     "user": {
      "displayName": "Lucas Amonati Khing Kliemczak",
      "userId": "15598711284908640386"
     },
     "user_tz": 180
    },
    "id": "EAgFAq3QXZ1q",
    "outputId": "0867898e-a95f-47ed-8404-fe70e6d8ff35"
   },
   "outputs": [
    {
     "data": {
      "text/latex": [
       "$\\displaystyle \\sin{\\left(x \\right)} \\sin{\\left(y \\right)} + \\cos{\\left(x \\right)} \\cos{\\left(y \\right)}$"
      ],
      "text/plain": [
       "sin(x)*sin(y) + cos(x)*cos(y)"
      ]
     },
     "execution_count": 32,
     "metadata": {},
     "output_type": "execute_result"
    }
   ],
   "source": [
    "sp.expand(sym.cos(x-y),trig=True)"
   ]
  },
  {
   "cell_type": "code",
   "execution_count": 33,
   "metadata": {
    "colab": {
     "base_uri": "https://localhost:8080/",
     "height": 38
    },
    "executionInfo": {
     "elapsed": 14,
     "status": "ok",
     "timestamp": 1692710045502,
     "user": {
      "displayName": "Lucas Amonati Khing Kliemczak",
      "userId": "15598711284908640386"
     },
     "user_tz": 180
    },
    "id": "iEInTQMEX1dh",
    "outputId": "fa754d41-191d-40ea-e49e-116b33db4093"
   },
   "outputs": [
    {
     "data": {
      "text/latex": [
       "$\\displaystyle x^{2} + 2 y - 1$"
      ],
      "text/plain": [
       "x**2 + 2*y - 1"
      ]
     },
     "execution_count": 33,
     "metadata": {},
     "output_type": "execute_result"
    }
   ],
   "source": [
    "sp.simplify((x**3+2*x*y-x)/x)"
   ]
  },
  {
   "cell_type": "markdown",
   "metadata": {
    "id": "v1XP_42GYyUR"
   },
   "source": [
    "$$\n",
    "\\lim _{x \\to 0} \\frac{cos(x)}{x} \\Rightarrow \\infty\n",
    "$$"
   ]
  },
  {
   "cell_type": "code",
   "execution_count": 34,
   "metadata": {
    "colab": {
     "base_uri": "https://localhost:8080/",
     "height": 37
    },
    "executionInfo": {
     "elapsed": 515,
     "status": "ok",
     "timestamp": 1692710095564,
     "user": {
      "displayName": "Lucas Amonati Khing Kliemczak",
      "userId": "15598711284908640386"
     },
     "user_tz": 180
    },
    "id": "Qp2t6_zbYYLC",
    "outputId": "44576ee5-1643-4e1f-a700-c74a0c7d77fc"
   },
   "outputs": [
    {
     "data": {
      "text/latex": [
       "$\\displaystyle \\infty$"
      ],
      "text/plain": [
       "oo"
      ]
     },
     "execution_count": 34,
     "metadata": {},
     "output_type": "execute_result"
    }
   ],
   "source": [
    "sp.limit(sp.cos(x)/x,x,0) # limite de cos(x)/x"
   ]
  },
  {
   "cell_type": "code",
   "execution_count": 35,
   "metadata": {
    "colab": {
     "base_uri": "https://localhost:8080/",
     "height": 38
    },
    "executionInfo": {
     "elapsed": 527,
     "status": "ok",
     "timestamp": 1692710905052,
     "user": {
      "displayName": "Lucas Amonati Khing Kliemczak",
      "userId": "15598711284908640386"
     },
     "user_tz": 180
    },
    "id": "6-JYdGWWYkV6",
    "outputId": "3ec7aab2-e7d0-4442-a441-d672673869b2"
   },
   "outputs": [
    {
     "data": {
      "text/latex": [
       "$\\displaystyle 3 x^{2} + 4 x$"
      ],
      "text/plain": [
       "3*x**2 + 4*x"
      ]
     },
     "execution_count": 35,
     "metadata": {},
     "output_type": "execute_result"
    }
   ],
   "source": [
    "sp.diff(x**3+2*x**2) # derivada"
   ]
  },
  {
   "cell_type": "code",
   "execution_count": 38,
   "metadata": {
    "colab": {
     "base_uri": "https://localhost:8080/",
     "height": 38
    },
    "executionInfo": {
     "elapsed": 11,
     "status": "ok",
     "timestamp": 1692711173585,
     "user": {
      "displayName": "Lucas Amonati Khing Kliemczak",
      "userId": "15598711284908640386"
     },
     "user_tz": 180
    },
    "id": "5fbkuqJtck7H",
    "outputId": "0ba9ed4f-912d-424f-95cf-8b1344cd329f"
   },
   "outputs": [
    {
     "data": {
      "text/latex": [
       "$\\displaystyle x^{3} + 2 x^{2}$"
      ],
      "text/plain": [
       "x**3 + 2*x**2"
      ]
     },
     "execution_count": 38,
     "metadata": {},
     "output_type": "execute_result"
    }
   ],
   "source": [
    "x**3+2*x**2"
   ]
  },
  {
   "cell_type": "code",
   "execution_count": 36,
   "metadata": {
    "colab": {
     "base_uri": "https://localhost:8080/",
     "height": 38
    },
    "executionInfo": {
     "elapsed": 418,
     "status": "ok",
     "timestamp": 1692711004988,
     "user": {
      "displayName": "Lucas Amonati Khing Kliemczak",
      "userId": "15598711284908640386"
     },
     "user_tz": 180
    },
    "id": "M-UvNzU7bp9J",
    "outputId": "41da8ff9-955e-4f9d-eb48-6771323b7f74"
   },
   "outputs": [
    {
     "data": {
      "text/latex": [
       "$\\displaystyle 2 \\cdot \\left(3 x + 2\\right)$"
      ],
      "text/plain": [
       "2*(3*x + 2)"
      ]
     },
     "execution_count": 36,
     "metadata": {},
     "output_type": "execute_result"
    }
   ],
   "source": [
    "sp.diff((x**3+2*x**2),x,2) # derivada 2ª"
   ]
  },
  {
   "cell_type": "code",
   "execution_count": 42,
   "metadata": {
    "colab": {
     "base_uri": "https://localhost:8080/",
     "height": 38
    },
    "executionInfo": {
     "elapsed": 622,
     "status": "ok",
     "timestamp": 1692711318035,
     "user": {
      "displayName": "Lucas Amonati Khing Kliemczak",
      "userId": "15598711284908640386"
     },
     "user_tz": 180
    },
    "id": "rTUxhs7ScCYP",
    "outputId": "3201e1ad-d937-4e89-902d-c63031d7d133"
   },
   "outputs": [
    {
     "data": {
      "text/latex": [
       "$\\displaystyle 3 x^{2} + 4 x$"
      ],
      "text/plain": [
       "3*x**2 + 4*x"
      ]
     },
     "execution_count": 42,
     "metadata": {},
     "output_type": "execute_result"
    }
   ],
   "source": [
    "sp.diff((x**3+2*x**2),x,1) # derivada 1ª"
   ]
  },
  {
   "cell_type": "code",
   "execution_count": 44,
   "metadata": {
    "colab": {
     "base_uri": "https://localhost:8080/",
     "height": 54
    },
    "executionInfo": {
     "elapsed": 408,
     "status": "ok",
     "timestamp": 1692711442850,
     "user": {
      "displayName": "Lucas Amonati Khing Kliemczak",
      "userId": "15598711284908640386"
     },
     "user_tz": 180
    },
    "id": "E-V7SYDydFqK",
    "outputId": "ec780d69-8d7d-4141-fd94-de4352b2d3a1"
   },
   "outputs": [
    {
     "data": {
      "text/latex": [
       "$\\displaystyle \\frac{1}{x} + \\frac{x}{6} + \\frac{7 x^{3}}{360} + \\frac{31 x^{5}}{15120} + O\\left(x^{6}\\right)$"
      ],
      "text/plain": [
       "1/x + x/6 + 7*x**3/360 + 31*x**5/15120 + O(x**6)"
      ]
     },
     "execution_count": 44,
     "metadata": {},
     "output_type": "execute_result"
    }
   ],
   "source": [
    "sp.series(1/sp.sin(x),x) # Séries de McLaurin"
   ]
  },
  {
   "cell_type": "code",
   "execution_count": 46,
   "metadata": {
    "colab": {
     "base_uri": "https://localhost:8080/",
     "height": 54
    },
    "executionInfo": {
     "elapsed": 13,
     "status": "ok",
     "timestamp": 1692711517822,
     "user": {
      "displayName": "Lucas Amonati Khing Kliemczak",
      "userId": "15598711284908640386"
     },
     "user_tz": 180
    },
    "id": "QBhnZUExdovr",
    "outputId": "bf3bb7ed-f2ea-440b-a680-812667c23423"
   },
   "outputs": [
    {
     "data": {
      "text/latex": [
       "$\\displaystyle \\frac{x^{3}}{3} - \\cos{\\left(x \\right)}$"
      ],
      "text/plain": [
       "x**3/3 - cos(x)"
      ]
     },
     "execution_count": 46,
     "metadata": {},
     "output_type": "execute_result"
    }
   ],
   "source": [
    "sp.integrate(sp.sin(x)+x**2,x) # integração"
   ]
  },
  {
   "cell_type": "code",
   "execution_count": 48,
   "metadata": {
    "colab": {
     "base_uri": "https://localhost:8080/",
     "height": 51
    },
    "executionInfo": {
     "elapsed": 421,
     "status": "ok",
     "timestamp": 1692711818268,
     "user": {
      "displayName": "Lucas Amonati Khing Kliemczak",
      "userId": "15598711284908640386"
     },
     "user_tz": 180
    },
    "id": "SgbUR2psd-Rj",
    "outputId": "7b66e3c4-7723-4f96-a413-6d531f622fe0"
   },
   "outputs": [
    {
     "data": {
      "text/latex": [
       "$\\displaystyle \\frac{4}{3} - \\cos{\\left(1 \\right)}$"
      ],
      "text/plain": [
       "4/3 - cos(1)"
      ]
     },
     "execution_count": 48,
     "metadata": {},
     "output_type": "execute_result"
    }
   ],
   "source": [
    "sp.integrate(sp.sin(x)+x**2,(x,0,1)) # integral definida"
   ]
  },
  {
   "cell_type": "code",
   "execution_count": 51,
   "metadata": {
    "colab": {
     "base_uri": "https://localhost:8080/",
     "height": 38
    },
    "executionInfo": {
     "elapsed": 528,
     "status": "ok",
     "timestamp": 1692711937585,
     "user": {
      "displayName": "Lucas Amonati Khing Kliemczak",
      "userId": "15598711284908640386"
     },
     "user_tz": 180
    },
    "id": "dUYJ0MQEep-6",
    "outputId": "fd3ddd9f-36b0-4b05-9bd3-b3ccadc5fad9"
   },
   "outputs": [
    {
     "data": {
      "text/latex": [
       "$\\displaystyle \\left\\{-1, 1, - i, i\\right\\}$"
      ],
      "text/plain": [
       "{-1, 1, -I, I}"
      ]
     },
     "execution_count": 51,
     "metadata": {},
     "output_type": "execute_result"
    }
   ],
   "source": [
    "sp.solveset(x**4-1,x)  # raízes da equação"
   ]
  },
  {
   "cell_type": "code",
   "execution_count": 53,
   "metadata": {
    "colab": {
     "base_uri": "https://localhost:8080/"
    },
    "executionInfo": {
     "elapsed": 417,
     "status": "ok",
     "timestamp": 1692712069046,
     "user": {
      "displayName": "Lucas Amonati Khing Kliemczak",
      "userId": "15598711284908640386"
     },
     "user_tz": 180
    },
    "id": "Dg4t-YirfebR",
    "outputId": "5c2743f1-946f-4dcd-826d-edfefd94e91b"
   },
   "outputs": [
    {
     "data": {
      "text/plain": [
       "(-7/3, 4/3)"
      ]
     },
     "execution_count": 53,
     "metadata": {},
     "output_type": "execute_result"
    }
   ],
   "source": [
    "solution = sp.solve((2*x+5*y-2,-3*x+6*y-15),(x,y))\n",
    "solution[x],solution[y]"
   ]
  },
  {
   "cell_type": "code",
   "execution_count": 54,
   "metadata": {
    "colab": {
     "base_uri": "https://localhost:8080/",
     "height": 58
    },
    "executionInfo": {
     "elapsed": 13,
     "status": "ok",
     "timestamp": 1692712117486,
     "user": {
      "displayName": "Lucas Amonati Khing Kliemczak",
      "userId": "15598711284908640386"
     },
     "user_tz": 180
    },
    "id": "OrJYb2ZogBPl",
    "outputId": "7718418d-e367-4909-9f27-a4ffa6915dd7"
   },
   "outputs": [
    {
     "data": {
      "text/latex": [
       "$\\displaystyle \\left[\\begin{matrix}2 & -3\\\\3 & 1\\end{matrix}\\right]$"
      ],
      "text/plain": [
       "Matrix([\n",
       "[2, -3],\n",
       "[3,  1]])"
      ]
     },
     "execution_count": 54,
     "metadata": {},
     "output_type": "execute_result"
    }
   ],
   "source": [
    "sp.Matrix([[2,-3],[3,1]])"
   ]
  },
  {
   "cell_type": "code",
   "execution_count": 56,
   "metadata": {
    "colab": {
     "base_uri": "https://localhost:8080/",
     "height": 79
    },
    "executionInfo": {
     "elapsed": 385,
     "status": "ok",
     "timestamp": 1692712698208,
     "user": {
      "displayName": "Lucas Amonati Khing Kliemczak",
      "userId": "15598711284908640386"
     },
     "user_tz": 180
    },
    "id": "1Cclo1aSgSGj",
    "outputId": "1dd54610-57a2-4eb8-f331-e82b133e7959"
   },
   "outputs": [
    {
     "data": {
      "text/latex": [
       "$\\displaystyle \\left[\\begin{matrix}x & y & x + 1\\\\- x & 2 & 3\\\\1 & 0 & - y\\end{matrix}\\right]$"
      ],
      "text/plain": [
       "Matrix([\n",
       "[ x, y, x + 1],\n",
       "[-x, 2,     3],\n",
       "[ 1, 0,    -y]])"
      ]
     },
     "execution_count": 56,
     "metadata": {},
     "output_type": "execute_result"
    }
   ],
   "source": [
    "A = sp.Matrix([[x,y,x+1],[-x,2,3],[1,0,-y]])\n",
    "A"
   ]
  },
  {
   "cell_type": "code",
   "execution_count": 57,
   "metadata": {
    "colab": {
     "base_uri": "https://localhost:8080/",
     "height": 79
    },
    "executionInfo": {
     "elapsed": 524,
     "status": "ok",
     "timestamp": 1692712722780,
     "user": {
      "displayName": "Lucas Amonati Khing Kliemczak",
      "userId": "15598711284908640386"
     },
     "user_tz": 180
    },
    "id": "fbFG0UCqideV",
    "outputId": "79827da8-7cb0-4be6-feb0-016665fdb423"
   },
   "outputs": [
    {
     "data": {
      "text/latex": [
       "$\\displaystyle \\left[\\begin{matrix}x^{2} - x y + x + 1 & x y + 2 y & x \\left(x + 1\\right) - y \\left(x + 1\\right) + 3 y\\\\- x^{2} - 2 x + 3 & - x y + 4 & - x \\left(x + 1\\right) - 3 y + 6\\\\x - y & y & x + y^{2} + 1\\end{matrix}\\right]$"
      ],
      "text/plain": [
       "Matrix([\n",
       "[x**2 - x*y + x + 1, x*y + 2*y, x*(x + 1) - y*(x + 1) + 3*y],\n",
       "[   -x**2 - 2*x + 3,  -x*y + 4,        -x*(x + 1) - 3*y + 6],\n",
       "[             x - y,         y,                x + y**2 + 1]])"
      ]
     },
     "execution_count": 57,
     "metadata": {},
     "output_type": "execute_result"
    }
   ],
   "source": [
    "A*A"
   ]
  },
  {
   "cell_type": "code",
   "execution_count": 60,
   "metadata": {
    "colab": {
     "base_uri": "https://localhost:8080/",
     "height": 92
    },
    "executionInfo": {
     "elapsed": 520,
     "status": "ok",
     "timestamp": 1692712971412,
     "user": {
      "displayName": "Lucas Amonati Khing Kliemczak",
      "userId": "15598711284908640386"
     },
     "user_tz": 180
    },
    "id": "KFmIkuHhilvc",
    "outputId": "f0e1c172-7559-401f-c706-1ad82cda97a1"
   },
   "outputs": [
    {
     "data": {
      "text/latex": [
       "$\\displaystyle \\left[\\begin{matrix}\\frac{2 y}{x y^{2} + 2 x y + 2 x - 3 y + 2} & - \\frac{y^{2}}{x y^{2} + 2 x y + 2 x - 3 y + 2} & \\frac{2 x - 3 y + 2}{x y^{2} + 2 x y + 2 x - 3 y + 2}\\\\\\frac{x y - 3}{x y^{2} + 2 x y + 2 x - 3 y + 2} & \\frac{x y + x + 1}{x y^{2} + 2 x y + 2 x - 3 y + 2} & \\frac{x^{2} + 4 x}{x y^{2} + 2 x y + 2 x - 3 y + 2}\\\\\\frac{2}{x y^{2} + 2 x y + 2 x - 3 y + 2} & - \\frac{y}{x y^{2} + 2 x y + 2 x - 3 y + 2} & \\frac{- x y - 2 x}{x y^{2} + 2 x y + 2 x - 3 y + 2}\\end{matrix}\\right]$"
      ],
      "text/plain": [
       "Matrix([\n",
       "[      2*y/(x*y**2 + 2*x*y + 2*x - 3*y + 2),         -y**2/(x*y**2 + 2*x*y + 2*x - 3*y + 2), (2*x - 3*y + 2)/(x*y**2 + 2*x*y + 2*x - 3*y + 2)],\n",
       "[(x*y - 3)/(x*y**2 + 2*x*y + 2*x - 3*y + 2), (x*y + x + 1)/(x*y**2 + 2*x*y + 2*x - 3*y + 2),    (x**2 + 4*x)/(x*y**2 + 2*x*y + 2*x - 3*y + 2)],\n",
       "[        2/(x*y**2 + 2*x*y + 2*x - 3*y + 2),            -y/(x*y**2 + 2*x*y + 2*x - 3*y + 2),    (-x*y - 2*x)/(x*y**2 + 2*x*y + 2*x - 3*y + 2)]])"
      ]
     },
     "execution_count": 60,
     "metadata": {},
     "output_type": "execute_result"
    }
   ],
   "source": [
    "A.inv()"
   ]
  },
  {
   "cell_type": "code",
   "execution_count": null,
   "metadata": {
    "id": "2zT6msbtiqEG"
   },
   "outputs": [],
   "source": []
  }
 ],
 "metadata": {
  "colab": {
   "authorship_tag": "ABX9TyNa2DmSf8RwIEejh9gnMbfp",
   "provenance": []
  },
  "kernelspec": {
   "display_name": "Python 3 (ipykernel)",
   "language": "python",
   "name": "python3"
  },
  "language_info": {
   "codemirror_mode": {
    "name": "ipython",
    "version": 3
   },
   "file_extension": ".py",
   "mimetype": "text/x-python",
   "name": "python",
   "nbconvert_exporter": "python",
   "pygments_lexer": "ipython3",
   "version": "3.10.9"
  }
 },
 "nbformat": 4,
 "nbformat_minor": 1
}
